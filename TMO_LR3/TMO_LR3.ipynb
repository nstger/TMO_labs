{
 "cells": [
  {
   "cell_type": "markdown",
   "metadata": {},
   "source": [
    "# Подготовка обучающей и тестовой выборки, кросс-валидация и подбор гиперпараметров на примере метода ближайших соседей."
   ]
  },
  {
   "cell_type": "markdown",
   "metadata": {},
   "source": [
    "### Цель лабораторной работы\n",
    "Изучение способов подготовки выборки и подбора гиперпараметров на примере метода ближайших соседей."
   ]
  },
  {
   "cell_type": "markdown",
   "metadata": {},
   "source": [
    "### Задание\n",
    "1. Выберите набор данных (датасет) для решения задачи классификации или регрессии.\n",
    "2. С использованием метода train_test_split разделите выборку на обучающую и тестовую.\n",
    "3. Обучите модель ближайших соседей для произвольно заданного гиперпараметра K. Оцените качество модели с помощью подходящих для задачи метрик.\n",
    "4. Произведите подбор гиперпараметра K с использованием GridSearchCV и/или RandomizedSearchCV и кросс-валидации, оцените качество оптимальной модели. Желательно использование нескольких стратегий кросс-валидации.\n",
    "5. Сравните метрики качества исходной и оптимальной моделей."
   ]
  },
  {
   "cell_type": "markdown",
   "metadata": {},
   "source": [
    "# Загрузка данных"
   ]
  },
  {
   "cell_type": "code",
   "execution_count": 1,
   "metadata": {},
   "outputs": [
    {
     "name": "stdout",
     "output_type": "stream",
     "text": [
      "data\n",
      "target\n",
      "frame\n",
      "target_names\n",
      "DESCR\n",
      "feature_names\n"
     ]
    }
   ],
   "source": [
    "import numpy as np\n",
    "import pandas as pd\n",
    "from typing import Dict, Tuple\n",
    "from scipy import stats\n",
    "from sklearn.datasets import load_wine\n",
    "from sklearn.model_selection import train_test_split\n",
    "from sklearn.model_selection import cross_val_score, cross_validate\n",
    "from sklearn.model_selection import GridSearchCV, RandomizedSearchCV\n",
    "from sklearn.neighbors import KNeighborsRegressor, KNeighborsClassifier\n",
    "from sklearn.metrics import accuracy_score, balanced_accuracy_score\n",
    "from sklearn.metrics import plot_confusion_matrix\n",
    "from sklearn.metrics import precision_score, recall_score, f1_score, classification_report\n",
    "from sklearn.metrics import confusion_matrix\n",
    "from sklearn.metrics import mean_absolute_error, mean_squared_error, mean_squared_log_error, median_absolute_error, r2_score \n",
    "from sklearn.metrics import roc_curve, roc_auc_score\n",
    "import seaborn as sns\n",
    "import matplotlib.pyplot as plt\n",
    "%matplotlib inline \n",
    "sns.set(style=\"ticks\")\n",
    "\n",
    "wine = load_wine()\n",
    "for x in wine:\n",
    "    print(x)"
   ]
  },
  {
   "cell_type": "code",
   "execution_count": 2,
   "metadata": {},
   "outputs": [],
   "source": [
    "data = pd.DataFrame(data= np.c_[wine['data'], wine['target']],\n",
    "                     columns= wine['feature_names'] + ['target'])"
   ]
  },
  {
   "cell_type": "markdown",
   "metadata": {},
   "source": [
    "## Вывод верхних 5 строчек датасета"
   ]
  },
  {
   "cell_type": "code",
   "execution_count": 3,
   "metadata": {},
   "outputs": [
    {
     "data": {
      "text/html": [
       "<div>\n",
       "<style scoped>\n",
       "    .dataframe tbody tr th:only-of-type {\n",
       "        vertical-align: middle;\n",
       "    }\n",
       "\n",
       "    .dataframe tbody tr th {\n",
       "        vertical-align: top;\n",
       "    }\n",
       "\n",
       "    .dataframe thead th {\n",
       "        text-align: right;\n",
       "    }\n",
       "</style>\n",
       "<table border=\"1\" class=\"dataframe\">\n",
       "  <thead>\n",
       "    <tr style=\"text-align: right;\">\n",
       "      <th></th>\n",
       "      <th>alcohol</th>\n",
       "      <th>malic_acid</th>\n",
       "      <th>ash</th>\n",
       "      <th>alcalinity_of_ash</th>\n",
       "      <th>magnesium</th>\n",
       "      <th>total_phenols</th>\n",
       "      <th>flavanoids</th>\n",
       "      <th>nonflavanoid_phenols</th>\n",
       "      <th>proanthocyanins</th>\n",
       "      <th>color_intensity</th>\n",
       "      <th>hue</th>\n",
       "      <th>od280/od315_of_diluted_wines</th>\n",
       "      <th>proline</th>\n",
       "      <th>target</th>\n",
       "    </tr>\n",
       "  </thead>\n",
       "  <tbody>\n",
       "    <tr>\n",
       "      <th>0</th>\n",
       "      <td>14.23</td>\n",
       "      <td>1.71</td>\n",
       "      <td>2.43</td>\n",
       "      <td>15.6</td>\n",
       "      <td>127.0</td>\n",
       "      <td>2.80</td>\n",
       "      <td>3.06</td>\n",
       "      <td>0.28</td>\n",
       "      <td>2.29</td>\n",
       "      <td>5.64</td>\n",
       "      <td>1.04</td>\n",
       "      <td>3.92</td>\n",
       "      <td>1065.0</td>\n",
       "      <td>0.0</td>\n",
       "    </tr>\n",
       "    <tr>\n",
       "      <th>1</th>\n",
       "      <td>13.20</td>\n",
       "      <td>1.78</td>\n",
       "      <td>2.14</td>\n",
       "      <td>11.2</td>\n",
       "      <td>100.0</td>\n",
       "      <td>2.65</td>\n",
       "      <td>2.76</td>\n",
       "      <td>0.26</td>\n",
       "      <td>1.28</td>\n",
       "      <td>4.38</td>\n",
       "      <td>1.05</td>\n",
       "      <td>3.40</td>\n",
       "      <td>1050.0</td>\n",
       "      <td>0.0</td>\n",
       "    </tr>\n",
       "    <tr>\n",
       "      <th>2</th>\n",
       "      <td>13.16</td>\n",
       "      <td>2.36</td>\n",
       "      <td>2.67</td>\n",
       "      <td>18.6</td>\n",
       "      <td>101.0</td>\n",
       "      <td>2.80</td>\n",
       "      <td>3.24</td>\n",
       "      <td>0.30</td>\n",
       "      <td>2.81</td>\n",
       "      <td>5.68</td>\n",
       "      <td>1.03</td>\n",
       "      <td>3.17</td>\n",
       "      <td>1185.0</td>\n",
       "      <td>0.0</td>\n",
       "    </tr>\n",
       "    <tr>\n",
       "      <th>3</th>\n",
       "      <td>14.37</td>\n",
       "      <td>1.95</td>\n",
       "      <td>2.50</td>\n",
       "      <td>16.8</td>\n",
       "      <td>113.0</td>\n",
       "      <td>3.85</td>\n",
       "      <td>3.49</td>\n",
       "      <td>0.24</td>\n",
       "      <td>2.18</td>\n",
       "      <td>7.80</td>\n",
       "      <td>0.86</td>\n",
       "      <td>3.45</td>\n",
       "      <td>1480.0</td>\n",
       "      <td>0.0</td>\n",
       "    </tr>\n",
       "    <tr>\n",
       "      <th>4</th>\n",
       "      <td>13.24</td>\n",
       "      <td>2.59</td>\n",
       "      <td>2.87</td>\n",
       "      <td>21.0</td>\n",
       "      <td>118.0</td>\n",
       "      <td>2.80</td>\n",
       "      <td>2.69</td>\n",
       "      <td>0.39</td>\n",
       "      <td>1.82</td>\n",
       "      <td>4.32</td>\n",
       "      <td>1.04</td>\n",
       "      <td>2.93</td>\n",
       "      <td>735.0</td>\n",
       "      <td>0.0</td>\n",
       "    </tr>\n",
       "  </tbody>\n",
       "</table>\n",
       "</div>"
      ],
      "text/plain": [
       "   alcohol  malic_acid   ash  alcalinity_of_ash  magnesium  total_phenols  \\\n",
       "0    14.23        1.71  2.43               15.6      127.0           2.80   \n",
       "1    13.20        1.78  2.14               11.2      100.0           2.65   \n",
       "2    13.16        2.36  2.67               18.6      101.0           2.80   \n",
       "3    14.37        1.95  2.50               16.8      113.0           3.85   \n",
       "4    13.24        2.59  2.87               21.0      118.0           2.80   \n",
       "\n",
       "   flavanoids  nonflavanoid_phenols  proanthocyanins  color_intensity   hue  \\\n",
       "0        3.06                  0.28             2.29             5.64  1.04   \n",
       "1        2.76                  0.26             1.28             4.38  1.05   \n",
       "2        3.24                  0.30             2.81             5.68  1.03   \n",
       "3        3.49                  0.24             2.18             7.80  0.86   \n",
       "4        2.69                  0.39             1.82             4.32  1.04   \n",
       "\n",
       "   od280/od315_of_diluted_wines  proline  target  \n",
       "0                          3.92   1065.0     0.0  \n",
       "1                          3.40   1050.0     0.0  \n",
       "2                          3.17   1185.0     0.0  \n",
       "3                          3.45   1480.0     0.0  \n",
       "4                          2.93    735.0     0.0  "
      ]
     },
     "execution_count": 3,
     "metadata": {},
     "output_type": "execute_result"
    }
   ],
   "source": [
    "data.head()"
   ]
  },
  {
   "cell_type": "markdown",
   "metadata": {},
   "source": [
    "# Разделение выборки на обучающую и тестовую с использованием метода train_test_split"
   ]
  },
  {
   "cell_type": "code",
   "execution_count": 4,
   "metadata": {},
   "outputs": [],
   "source": [
    "X_train, X_test, Y_train, Y_test = train_test_split(wine.data, wine.target, test_size=0.25, random_state=1)"
   ]
  },
  {
   "cell_type": "code",
   "execution_count": 5,
   "metadata": {},
   "outputs": [
    {
     "data": {
      "text/plain": [
       "((133, 13), (133,))"
      ]
     },
     "execution_count": 5,
     "metadata": {},
     "output_type": "execute_result"
    }
   ],
   "source": [
    "# Размер обучающей выборки\n",
    "X_train.shape, Y_train.shape"
   ]
  },
  {
   "cell_type": "code",
   "execution_count": 6,
   "metadata": {},
   "outputs": [
    {
     "data": {
      "text/plain": [
       "((45, 13), (45,))"
      ]
     },
     "execution_count": 6,
     "metadata": {},
     "output_type": "execute_result"
    }
   ],
   "source": [
    "# Размер тестовой выборки\n",
    "X_test.shape, Y_test.shape"
   ]
  },
  {
   "cell_type": "markdown",
   "metadata": {},
   "source": [
    "Функция train_test_split разделила исходную выборку таким образом, чтобы в обучающей и тестовой частях сохранились все классы."
   ]
  },
  {
   "cell_type": "code",
   "execution_count": 7,
   "metadata": {},
   "outputs": [
    {
     "data": {
      "text/plain": [
       "array([0, 1, 2])"
      ]
     },
     "execution_count": 7,
     "metadata": {},
     "output_type": "execute_result"
    }
   ],
   "source": [
    "np.unique(Y_train)"
   ]
  },
  {
   "cell_type": "code",
   "execution_count": 8,
   "metadata": {},
   "outputs": [
    {
     "data": {
      "text/plain": [
       "array([0, 1, 2])"
      ]
     },
     "execution_count": 8,
     "metadata": {},
     "output_type": "execute_result"
    }
   ],
   "source": [
    "np.unique(Y_test)"
   ]
  },
  {
   "cell_type": "code",
   "execution_count": 9,
   "metadata": {},
   "outputs": [],
   "source": [
    "def class_proportions(array: np.ndarray) -> Dict[int, Tuple[int, float]]:\n",
    "    \"\"\"\n",
    "    Вычисляет пропорции классов\n",
    "    array - массив, содержащий метки классов\n",
    "    \"\"\"\n",
    "    # Получение меток классов и количества меток каждого класса \n",
    "    labels, counts = np.unique(array, return_counts=True)\n",
    "    # Превращаем количество меток в процент их встречаемости\n",
    "    # делим количество меток каждого класса на общее количество меток\n",
    "    counts_perc = counts/array.size\n",
    "    # Теперь sum(counts_perc)==1.0\n",
    "    # Создаем результирующий словарь,\n",
    "    # ключом словаря явлется метка класса, \n",
    "    # а значением словаря процент встречаемости метки\n",
    "    res = dict()\n",
    "    for label, count2 in zip(labels, zip(counts, counts_perc)):\n",
    "        res[label] = count2\n",
    "    return res\n",
    "\n",
    "def print_class_proportions(array: np.ndarray):\n",
    "    \"\"\"\n",
    "    Вывод пропорций классов\n",
    "    \"\"\"\n",
    "    proportions = class_proportions(array)\n",
    "    if len(proportions)>0:\n",
    "        print('Метка \\t Количество \\t Процент встречаемости')\n",
    "    for i in proportions:\n",
    "        val, val_perc = proportions[i]\n",
    "        val_perc_100 = round(val_perc * 100, 2)\n",
    "        print('{} \\t {} \\t \\t {}%'.format(i, val, val_perc_100))"
   ]
  },
  {
   "cell_type": "code",
   "execution_count": 10,
   "metadata": {},
   "outputs": [
    {
     "name": "stdout",
     "output_type": "stream",
     "text": [
      "Метка \t Количество \t Процент встречаемости\n",
      "0 \t 59 \t \t 33.15%\n",
      "1 \t 71 \t \t 39.89%\n",
      "2 \t 48 \t \t 26.97%\n"
     ]
    }
   ],
   "source": [
    "print_class_proportions(wine.target)\n",
    "\n",
    "# Функция train_test_split разделила исходную выборку таким образом, \n",
    "# чтобы в обучающей и тестовой частях сохранились пропорции классов."
   ]
  },
  {
   "cell_type": "code",
   "execution_count": 11,
   "metadata": {},
   "outputs": [
    {
     "name": "stdout",
     "output_type": "stream",
     "text": [
      "Метка \t Количество \t Процент встречаемости\n",
      "0 \t 41 \t \t 30.83%\n",
      "1 \t 54 \t \t 40.6%\n",
      "2 \t 38 \t \t 28.57%\n"
     ]
    }
   ],
   "source": [
    "# Для обучающей выборки\n",
    "print_class_proportions(Y_train)"
   ]
  },
  {
   "cell_type": "code",
   "execution_count": 12,
   "metadata": {},
   "outputs": [
    {
     "name": "stdout",
     "output_type": "stream",
     "text": [
      "Метка \t Количество \t Процент встречаемости\n",
      "0 \t 18 \t \t 40.0%\n",
      "1 \t 17 \t \t 37.78%\n",
      "2 \t 10 \t \t 22.22%\n"
     ]
    }
   ],
   "source": [
    "# Для тестовой выборки\n",
    "print_class_proportions(Y_test)"
   ]
  },
  {
   "cell_type": "markdown",
   "metadata": {},
   "source": [
    "# Обучение модели ближайших соседей для произвольно заданного гиперпараметра K"
   ]
  },
  {
   "cell_type": "code",
   "execution_count": 13,
   "metadata": {},
   "outputs": [
    {
     "data": {
      "text/plain": [
       "(0.8646616541353384, 0.6888888888888889)"
      ]
     },
     "execution_count": 13,
     "metadata": {},
     "output_type": "execute_result"
    }
   ],
   "source": [
    "# 3 ближайших соседа\n",
    "# Метрика accuracy вычисляет процент (долю в диапазоне от 0 до 1) правильно определенных классов\n",
    "cl1_1 = KNeighborsClassifier(n_neighbors=3)\n",
    "cl1_1.fit(X_train, Y_train)\n",
    "target1_0 = cl1_1.predict(X_train)\n",
    "target1_1 = cl1_1.predict(X_test)\n",
    "accuracy_score(Y_train, target1_0), accuracy_score(Y_test, target1_1)"
   ]
  },
  {
   "cell_type": "code",
   "execution_count": 14,
   "metadata": {},
   "outputs": [
    {
     "data": {
      "text/plain": [
       "(0.7669172932330827, 0.6444444444444445)"
      ]
     },
     "execution_count": 14,
     "metadata": {},
     "output_type": "execute_result"
    }
   ],
   "source": [
    "# 7 ближайших соседей\n",
    "# Метрика accuracy вычисляет процент (долю в диапазоне от 0 до 1) правильно определенных классов\n",
    "cl1_2 = KNeighborsClassifier(n_neighbors=7)\n",
    "cl1_2.fit(X_train, Y_train)\n",
    "target2_0 = cl1_2.predict(X_train)\n",
    "target2_1 = cl1_2.predict(X_test)\n",
    "accuracy_score(Y_train, target2_0), accuracy_score(Y_test, target2_1)"
   ]
  },
  {
   "cell_type": "markdown",
   "metadata": {},
   "source": [
    "# Построение модели с использованием кросс-валидации"
   ]
  },
  {
   "cell_type": "code",
   "execution_count": 15,
   "metadata": {},
   "outputs": [
    {
     "data": {
      "text/plain": [
       "array([0.61666667, 0.57627119, 0.79661017])"
      ]
     },
     "execution_count": 15,
     "metadata": {},
     "output_type": "execute_result"
    }
   ],
   "source": [
    "scores = cross_val_score(KNeighborsClassifier(n_neighbors=3), wine.data, wine.target, cv=3)\n",
    "\n",
    "# Значение метрики accuracy для 3 фолдов\n",
    "scores"
   ]
  },
  {
   "cell_type": "code",
   "execution_count": 16,
   "metadata": {},
   "outputs": [
    {
     "data": {
      "text/plain": [
       "0.6631826741996233"
      ]
     },
     "execution_count": 16,
     "metadata": {},
     "output_type": "execute_result"
    }
   ],
   "source": [
    "# Усредненное значение метрики accuracy для 3 фолдов\n",
    "np.mean(scores)"
   ]
  },
  {
   "cell_type": "code",
   "execution_count": 17,
   "metadata": {},
   "outputs": [
    {
     "data": {
      "text/plain": [
       "(array([0.61631579, 0.59473992, 0.78926159]), 0.6667724311739814)"
      ]
     },
     "execution_count": 17,
     "metadata": {},
     "output_type": "execute_result"
    }
   ],
   "source": [
    "# использование метрики precision\n",
    "scores = cross_val_score(KNeighborsClassifier(n_neighbors=3), \n",
    "                         wine.data, wine.target, cv=3,\n",
    "                        scoring='precision_weighted')\n",
    "scores, np.mean(scores)"
   ]
  },
  {
   "cell_type": "code",
   "execution_count": 18,
   "metadata": {},
   "outputs": [
    {
     "data": {
      "text/plain": [
       "{'fit_time': array([0., 0., 0.]),\n",
       " 'score_time': array([0.0156188 , 0.03124356, 0.01560211]),\n",
       " 'test_precision': array([0.61631579, 0.59473992, 0.78926159]),\n",
       " 'train_precision': array([0.84432192, 0.87868395, 0.78719633]),\n",
       " 'test_jaccard': array([0.44786325, 0.41520347, 0.66077488]),\n",
       " 'train_jaccard': array([0.72223627, 0.78003999, 0.65344998]),\n",
       " 'test_f1': array([0.60380952, 0.57731661, 0.78515946]),\n",
       " 'train_f1': array([0.83420614, 0.87517928, 0.78484177])}"
      ]
     },
     "execution_count": 18,
     "metadata": {},
     "output_type": "execute_result"
    }
   ],
   "source": [
    "# функция cross_validate позволяет использовать для оценки несколько метрик\n",
    "scoring = {'precision': 'precision_weighted', \n",
    "           'jaccard': 'jaccard_weighted',\n",
    "           'f1': 'f1_weighted'}\n",
    "\n",
    "scores = cross_validate(KNeighborsClassifier(n_neighbors=3), \n",
    "                        wine.data, wine.target, scoring=scoring, \n",
    "                        cv=3, return_train_score=True)\n",
    "scores"
   ]
  },
  {
   "cell_type": "markdown",
   "metadata": {},
   "source": [
    "# Подбор гиперпараметра K с использованием GridSearchCV и кросс-валидации"
   ]
  },
  {
   "cell_type": "code",
   "execution_count": 19,
   "metadata": {},
   "outputs": [
    {
     "data": {
      "text/plain": [
       "[{'n_neighbors': array([ 3,  6,  9, 12, 15, 18, 21, 24, 27, 30, 33, 36, 39, 42, 45, 48, 51,\n",
       "         54])}]"
      ]
     },
     "execution_count": 19,
     "metadata": {},
     "output_type": "execute_result"
    }
   ],
   "source": [
    "n_range = np.array(range(3,57,3))\n",
    "tuned_parameters = [{'n_neighbors': n_range}]\n",
    "tuned_parameters"
   ]
  },
  {
   "cell_type": "code",
   "execution_count": 20,
   "metadata": {},
   "outputs": [
    {
     "name": "stdout",
     "output_type": "stream",
     "text": [
      "Wall time: 564 ms\n"
     ]
    },
    {
     "data": {
      "text/plain": [
       "GridSearchCV(cv=5, estimator=KNeighborsClassifier(),\n",
       "             param_grid=[{'n_neighbors': array([ 3,  6,  9, 12, 15, 18, 21, 24, 27, 30, 33, 36, 39, 42, 45, 48, 51,\n",
       "       54])}],\n",
       "             scoring='accuracy')"
      ]
     },
     "execution_count": 20,
     "metadata": {},
     "output_type": "execute_result"
    }
   ],
   "source": [
    "%%time\n",
    "clf_gs = GridSearchCV(KNeighborsClassifier(), tuned_parameters, cv=5, scoring='accuracy')\n",
    "clf_gs.fit(X_train, Y_train)"
   ]
  },
  {
   "cell_type": "code",
   "execution_count": 21,
   "metadata": {},
   "outputs": [
    {
     "data": {
      "text/plain": [
       "{'mean_fit_time': array([0.00312467, 0.00625453, 0.        , 0.00312428, 0.00312424,\n",
       "        0.        , 0.        , 0.006249  , 0.        , 0.00312209,\n",
       "        0.        , 0.        , 0.        , 0.0044302 , 0.00312443,\n",
       "        0.        , 0.        , 0.        ]),\n",
       " 'std_fit_time': array([0.00624933, 0.00766021, 0.        , 0.00624857, 0.00624847,\n",
       "        0.        , 0.        , 0.00765343, 0.        , 0.00624418,\n",
       "        0.        , 0.        , 0.        , 0.00614004, 0.00624886,\n",
       "        0.        , 0.        , 0.        ]),\n",
       " 'mean_score_time': array([0.        , 0.00311832, 0.00443697, 0.00312691, 0.00312438,\n",
       "        0.00312433, 0.0044292 , 0.        , 0.00312643, 0.        ,\n",
       "        0.001302  , 0.00937481, 0.00312409, 0.00625587, 0.00312395,\n",
       "        0.00624857, 0.00442619, 0.00937696]),\n",
       " 'std_score_time': array([0.        , 0.00623665, 0.00615026, 0.00625381, 0.00624876,\n",
       "        0.00624866, 0.00614316, 0.        , 0.00625286, 0.        ,\n",
       "        0.00260401, 0.0076545 , 0.00624819, 0.00766184, 0.0062479 ,\n",
       "        0.0076529 , 0.00613903, 0.01250175]),\n",
       " 'param_n_neighbors': masked_array(data=[3, 6, 9, 12, 15, 18, 21, 24, 27, 30, 33, 36, 39, 42,\n",
       "                    45, 48, 51, 54],\n",
       "              mask=[False, False, False, False, False, False, False, False,\n",
       "                    False, False, False, False, False, False, False, False,\n",
       "                    False, False],\n",
       "        fill_value='?',\n",
       "             dtype=object),\n",
       " 'params': [{'n_neighbors': 3},\n",
       "  {'n_neighbors': 6},\n",
       "  {'n_neighbors': 9},\n",
       "  {'n_neighbors': 12},\n",
       "  {'n_neighbors': 15},\n",
       "  {'n_neighbors': 18},\n",
       "  {'n_neighbors': 21},\n",
       "  {'n_neighbors': 24},\n",
       "  {'n_neighbors': 27},\n",
       "  {'n_neighbors': 30},\n",
       "  {'n_neighbors': 33},\n",
       "  {'n_neighbors': 36},\n",
       "  {'n_neighbors': 39},\n",
       "  {'n_neighbors': 42},\n",
       "  {'n_neighbors': 45},\n",
       "  {'n_neighbors': 48},\n",
       "  {'n_neighbors': 51},\n",
       "  {'n_neighbors': 54}],\n",
       " 'split0_test_score': array([0.77777778, 0.7037037 , 0.62962963, 0.62962963, 0.59259259,\n",
       "        0.7037037 , 0.74074074, 0.74074074, 0.77777778, 0.77777778,\n",
       "        0.66666667, 0.81481481, 0.81481481, 0.77777778, 0.85185185,\n",
       "        0.81481481, 0.81481481, 0.81481481]),\n",
       " 'split1_test_score': array([0.62962963, 0.66666667, 0.7037037 , 0.66666667, 0.77777778,\n",
       "        0.77777778, 0.77777778, 0.74074074, 0.7037037 , 0.74074074,\n",
       "        0.74074074, 0.74074074, 0.74074074, 0.74074074, 0.74074074,\n",
       "        0.74074074, 0.74074074, 0.74074074]),\n",
       " 'split2_test_score': array([0.74074074, 0.77777778, 0.74074074, 0.74074074, 0.81481481,\n",
       "        0.74074074, 0.74074074, 0.74074074, 0.7037037 , 0.74074074,\n",
       "        0.74074074, 0.74074074, 0.74074074, 0.74074074, 0.74074074,\n",
       "        0.74074074, 0.74074074, 0.74074074]),\n",
       " 'split3_test_score': array([0.69230769, 0.69230769, 0.65384615, 0.65384615, 0.65384615,\n",
       "        0.61538462, 0.61538462, 0.65384615, 0.65384615, 0.65384615,\n",
       "        0.65384615, 0.65384615, 0.65384615, 0.65384615, 0.65384615,\n",
       "        0.65384615, 0.65384615, 0.65384615]),\n",
       " 'split4_test_score': array([0.76923077, 0.69230769, 0.65384615, 0.53846154, 0.65384615,\n",
       "        0.80769231, 0.76923077, 0.73076923, 0.76923077, 0.76923077,\n",
       "        0.73076923, 0.73076923, 0.65384615, 0.73076923, 0.73076923,\n",
       "        0.73076923, 0.73076923, 0.65384615]),\n",
       " 'mean_test_score': array([0.72193732, 0.70655271, 0.67635328, 0.64586895, 0.6985755 ,\n",
       "        0.72905983, 0.72877493, 0.72136752, 0.72165242, 0.73646724,\n",
       "        0.70655271, 0.73618234, 0.72079772, 0.72877493, 0.74358974,\n",
       "        0.73618234, 0.73618234, 0.72079772]),\n",
       " 'std_test_score': array([0.0549673 , 0.0376241 , 0.04022445, 0.06526393, 0.08368797,\n",
       "        0.06672022, 0.05862027, 0.03398085, 0.0461644 , 0.04391533,\n",
       "        0.03819152, 0.05105521, 0.06099129, 0.04075767, 0.06317467,\n",
       "        0.05105521, 0.05105521, 0.06099129]),\n",
       " 'rank_test_score': array([ 9, 14, 17, 18, 16,  6,  7, 11, 10,  2, 15,  3, 12,  7,  1,  3,  3,\n",
       "        12])}"
      ]
     },
     "execution_count": 21,
     "metadata": {},
     "output_type": "execute_result"
    }
   ],
   "source": [
    "clf_gs.cv_results_"
   ]
  },
  {
   "cell_type": "code",
   "execution_count": 22,
   "metadata": {},
   "outputs": [
    {
     "data": {
      "text/plain": [
       "KNeighborsClassifier(n_neighbors=45)"
      ]
     },
     "execution_count": 22,
     "metadata": {},
     "output_type": "execute_result"
    }
   ],
   "source": [
    "# Лучшая модель\n",
    "clf_gs.best_estimator_"
   ]
  },
  {
   "cell_type": "code",
   "execution_count": 23,
   "metadata": {},
   "outputs": [
    {
     "data": {
      "text/plain": [
       "0.7435897435897435"
      ]
     },
     "execution_count": 23,
     "metadata": {},
     "output_type": "execute_result"
    }
   ],
   "source": [
    "# Лучшее значение метрики\n",
    "clf_gs.best_score_"
   ]
  },
  {
   "cell_type": "code",
   "execution_count": 24,
   "metadata": {},
   "outputs": [
    {
     "data": {
      "text/plain": [
       "{'n_neighbors': 45}"
      ]
     },
     "execution_count": 24,
     "metadata": {},
     "output_type": "execute_result"
    }
   ],
   "source": [
    "# Лучшее значение параметров\n",
    "clf_gs.best_params_"
   ]
  },
  {
   "cell_type": "code",
   "execution_count": 25,
   "metadata": {},
   "outputs": [
    {
     "data": {
      "text/plain": [
       "[<matplotlib.lines.Line2D at 0x1ead7652400>]"
      ]
     },
     "execution_count": 25,
     "metadata": {},
     "output_type": "execute_result"
    },
    {
     "data": {
      "image/png": "[encoded data removed]",
      "text/plain": [
       "<Figure size 432x288 with 1 Axes>"
      ]
     },
     "metadata": {},
     "output_type": "display_data"
    }
   ],
   "source": [
    "# Изменение качества на тестовой выборке в зависимости от К-соседей\n",
    "plt.plot(n_range, clf_gs.cv_results_['mean_test_score'])"
   ]
  },
  {
   "cell_type": "markdown",
   "metadata": {},
   "source": [
    "Таким образом, оптимальный гиперпараметр K = 45."
   ]
  },
  {
   "cell_type": "markdown",
   "metadata": {},
   "source": [
    "# Сравнение метрики качества исходной и оптимальной моделей\n",
    "\n",
    "## Accuracy\n",
    "\n",
    "Метрика вычисляет процент (долю в диапазоне от 0 до 1) правильно определенных классов.\n",
    "\n",
    "Эту метрику обычно переводят как \"точность\", но перевод не является удачным, потому что совпадает с переводом для другой метрики - \"precision\".\n",
    "\n",
    "Чтобы не сталкиваться с неточностями перевода, названия метрик можно не переводить."
   ]
  },
  {
   "cell_type": "code",
   "execution_count": 26,
   "metadata": {},
   "outputs": [
    {
     "data": {
      "text/plain": [
       "0.6888888888888889"
      ]
     },
     "execution_count": 26,
     "metadata": {},
     "output_type": "execute_result"
    }
   ],
   "source": [
    "# Y_test - эталонное значение классов из исходной (тестовой) выборки\n",
    "# target* - предсказанное значение классов\n",
    "\n",
    "# 3 ближайших соседа\n",
    "accuracy_score(Y_test, target1_1)"
   ]
  },
  {
   "cell_type": "code",
   "execution_count": 27,
   "metadata": {},
   "outputs": [
    {
     "data": {
      "text/plain": [
       "0.6444444444444445"
      ]
     },
     "execution_count": 27,
     "metadata": {},
     "output_type": "execute_result"
    }
   ],
   "source": [
    "# 7 ближайших соседей\n",
    "accuracy_score(Y_test, target2_1)"
   ]
  },
  {
   "cell_type": "code",
   "execution_count": 28,
   "metadata": {},
   "outputs": [
    {
     "data": {
      "text/plain": [
       "0.8646616541353384"
      ]
     },
     "execution_count": 28,
     "metadata": {},
     "output_type": "execute_result"
    }
   ],
   "source": [
    "# Y_train - значение классов из тренировочной выборки\n",
    "# target* - предсказанное значение классов\n",
    "\n",
    "# 3 ближайших соседа\n",
    "accuracy_score(Y_train, target1_0)"
   ]
  },
  {
   "cell_type": "code",
   "execution_count": 29,
   "metadata": {},
   "outputs": [
    {
     "data": {
      "text/plain": [
       "0.7669172932330827"
      ]
     },
     "execution_count": 29,
     "metadata": {},
     "output_type": "execute_result"
    }
   ],
   "source": [
    "# 7 ближайших соседей\n",
    "accuracy_score(Y_train, target2_0)"
   ]
  },
  {
   "cell_type": "markdown",
   "metadata": {},
   "source": [
    "Метрика \"Accuracy\" показывает точность по всем классам, но точность может быть различной для различных классов.\n",
    "Это очень серьезная проблема, которая часто возникает на несбалансированных выборках."
   ]
  },
  {
   "cell_type": "code",
   "execution_count": 30,
   "metadata": {},
   "outputs": [],
   "source": [
    "def accuracy_score_for_classes(\n",
    "    y_true: np.ndarray, \n",
    "    y_pred: np.ndarray) -> Dict[int, float]:\n",
    "    \"\"\"\n",
    "    Вычисление метрики accuracy для каждого класса\n",
    "    y_true - истинные значения классов\n",
    "    y_pred - предсказанные значения классов\n",
    "    Возвращает словарь: ключ - метка класса, \n",
    "    значение - Accuracy для данного класса\n",
    "    \"\"\"\n",
    "    # Для удобства фильтрации сформируем Pandas DataFrame \n",
    "    d = {'t': y_true, 'p': y_pred}\n",
    "    df = pd.DataFrame(data=d)\n",
    "    # Метки классов\n",
    "    classes = np.unique(y_true)\n",
    "    # Результирующий словарь\n",
    "    res = dict()\n",
    "    # Перебор меток классов\n",
    "    for c in classes:\n",
    "        # отфильтруем данные, которые соответствуют \n",
    "        # текущей метке класса в истинных значениях\n",
    "        temp_data_flt = df[df['t']==c]\n",
    "        # расчет accuracy для заданной метки класса\n",
    "        temp_acc = accuracy_score(\n",
    "            temp_data_flt['t'].values, \n",
    "            temp_data_flt['p'].values)\n",
    "        # сохранение результата в словарь\n",
    "        res[c] = temp_acc\n",
    "    return res\n",
    "\n",
    "def print_accuracy_score_for_classes(\n",
    "    y_true: np.ndarray, \n",
    "    y_pred: np.ndarray):\n",
    "    \"\"\"\n",
    "    Вывод метрики accuracy для каждого класса\n",
    "    \"\"\"\n",
    "    accs = accuracy_score_for_classes(y_true, y_pred)\n",
    "    if len(accs)>0:\n",
    "        print('Метка \\t Accuracy')\n",
    "    for i in accs:\n",
    "        print('{} \\t {}'.format(i, accs[i]))"
   ]
  },
  {
   "cell_type": "code",
   "execution_count": 31,
   "metadata": {},
   "outputs": [
    {
     "name": "stdout",
     "output_type": "stream",
     "text": [
      "Метка \t Accuracy\n",
      "0 \t 0.8333333333333334\n",
      "1 \t 0.7058823529411765\n",
      "2 \t 0.4\n"
     ]
    }
   ],
   "source": [
    "# 3 ближайших соседа\n",
    "print_accuracy_score_for_classes(Y_test, target1_1)"
   ]
  },
  {
   "cell_type": "markdown",
   "metadata": {},
   "source": [
    "### Accuracy для классов 0 составляет 83%, 1 составляет 71%, но для класса 2 только 40%."
   ]
  },
  {
   "cell_type": "code",
   "execution_count": 32,
   "metadata": {},
   "outputs": [
    {
     "name": "stdout",
     "output_type": "stream",
     "text": [
      "Метка \t Accuracy\n",
      "0 \t 0.7777777777777778\n",
      "1 \t 0.5882352941176471\n",
      "2 \t 0.5\n"
     ]
    }
   ],
   "source": [
    "# 7 ближайших соседей\n",
    "print_accuracy_score_for_classes(Y_test, target2_1)"
   ]
  },
  {
   "cell_type": "markdown",
   "metadata": {},
   "source": [
    "### Accuracy для классов 0 составляет 78%, 1 составляет 59%, но для класса 2 только 50%."
   ]
  },
  {
   "cell_type": "markdown",
   "metadata": {},
   "source": [
    "# Обучим нашу модель на найденном лучшем параметре и проведем сравнение"
   ]
  },
  {
   "cell_type": "code",
   "execution_count": 33,
   "metadata": {},
   "outputs": [],
   "source": [
    "# Обучение модели и оценка качества с учетом подобранных гиперпараметров\n",
    "clf_gs.best_estimator_.fit(X_train, Y_train)\n",
    "target3_0 = clf_gs.best_estimator_.predict(X_train)\n",
    "target3_1 = clf_gs.best_estimator_.predict(X_test)"
   ]
  },
  {
   "cell_type": "code",
   "execution_count": 34,
   "metadata": {},
   "outputs": [
    {
     "data": {
      "text/plain": [
       "(0.7368421052631579, 0.6888888888888889)"
      ]
     },
     "execution_count": 34,
     "metadata": {},
     "output_type": "execute_result"
    }
   ],
   "source": [
    "# Новое качество модели\n",
    "accuracy_score(Y_train, target3_0), accuracy_score(Y_test, target3_1)"
   ]
  },
  {
   "cell_type": "code",
   "execution_count": 35,
   "metadata": {},
   "outputs": [
    {
     "data": {
      "text/plain": [
       "(0.7669172932330827, 0.6444444444444445)"
      ]
     },
     "execution_count": 35,
     "metadata": {},
     "output_type": "execute_result"
    }
   ],
   "source": [
    "# Качество модели до подбора гиперпараметров (7)\n",
    "accuracy_score(Y_train, target2_0), accuracy_score(Y_test, target2_1)"
   ]
  },
  {
   "cell_type": "code",
   "execution_count": 36,
   "metadata": {},
   "outputs": [
    {
     "data": {
      "text/plain": [
       "(0.8646616541353384, 0.6888888888888889)"
      ]
     },
     "execution_count": 36,
     "metadata": {},
     "output_type": "execute_result"
    }
   ],
   "source": [
    "# Качество модели до подбора гиперпараметров (3)\n",
    "accuracy_score(Y_train, target1_0), accuracy_score(Y_test, target1_1)"
   ]
  }
 ],
 "metadata": {
  "kernelspec": {
   "display_name": "Python 3",
   "language": "python",
   "name": "python3"
  },
  "language_info": {
   "codemirror_mode": {
    "name": "ipython",
    "version": 3
   },
   "file_extension": ".py",
   "mimetype": "text/x-python",
   "name": "python",
   "nbconvert_exporter": "python",
   "pygments_lexer": "ipython3",
   "version": "3.8.5"
  }
 },
 "nbformat": 4,
 "nbformat_minor": 4
}
