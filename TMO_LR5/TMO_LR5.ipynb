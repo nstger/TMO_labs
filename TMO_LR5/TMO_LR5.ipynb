{
 "cells": [
  {
   "cell_type": "markdown",
   "metadata": {},
   "source": [
    "# Лабораторная работа №5\n",
    "\n",
    "## Ансамбли моделей машинного обучения\n",
    "\n",
    "### Цель лабораторной работы\n",
    "Изучение ансамблей моделей машинного обучения.\n",
    "\n",
    "### Задание\n",
    "1. Выберите набор данных (датасет) для решения задачи классификации или регресии.\n",
    "2. В случае необходимости проведите удаление или заполнение пропусков и кодирование категориальных признаков.\n",
    "3. С использованием метода train_test_split разделите выборку на обучающую и тестовую.\n",
    "4. Обучите две ансамблевые модели. Оцените качество моделей с помощью одной из подходящих для задачи метрик. Сравните качество полученных моделей."
   ]
  },
  {
   "cell_type": "markdown",
   "metadata": {},
   "source": [
    "# Ход выполнения лабораторной работы"
   ]
  },
  {
   "cell_type": "code",
   "execution_count": 1,
   "metadata": {},
   "outputs": [],
   "source": [
    "import pandas as pd\n",
    "import seaborn as sns\n",
    "import numpy as np\n",
    "import matplotlib.pyplot as plt\n",
    "from sklearn.preprocessing import MinMaxScaler\n",
    "from sklearn.model_selection import train_test_split\n",
    "from sklearn.metrics import f1_score, precision_score\n",
    "from sklearn.metrics import recall_score, accuracy_score\n",
    "from sklearn.ensemble import RandomForestClassifier\n",
    "from sklearn.ensemble import GradientBoostingClassifier\n",
    "import warnings\n",
    "warnings.filterwarnings('ignore')\n",
    "%matplotlib inline\n",
    "sns.set(style=\"ticks\")"
   ]
  },
  {
   "cell_type": "code",
   "execution_count": 2,
   "metadata": {},
   "outputs": [],
   "source": [
    "col_list = ['Pelvic_incidence',\n",
    "               'Pelvic_tilt',\n",
    "               'Lumbar_lordosis_angle',\n",
    "               'Sacral_slope',\n",
    "               'Pelvic_radius',\n",
    "               'Degree_spondylolisthesis',\n",
    "               'Pelvic_slope',\n",
    "               'Direct_tilt',\n",
    "               'Thoracic_slope',\n",
    "               'Cervical_tilt',\n",
    "               'Sacrum_angle',\n",
    "               'Scoliosis_slope',\n",
    "               'To_drop']\n",
    "data = pd.read_csv('Dataset_spine.csv', names=col_list, header=1, sep=\",\")\n",
    "data.drop('To_drop', axis=1, inplace=True)"
   ]
  },
  {
   "cell_type": "code",
   "execution_count": 3,
   "metadata": {},
   "outputs": [
    {
     "data": {
      "text/html": [
       "<div>\n",
       "<style scoped>\n",
       "    .dataframe tbody tr th:only-of-type {\n",
       "        vertical-align: middle;\n",
       "    }\n",
       "\n",
       "    .dataframe tbody tr th {\n",
       "        vertical-align: top;\n",
       "    }\n",
       "\n",
       "    .dataframe thead th {\n",
       "        text-align: right;\n",
       "    }\n",
       "</style>\n",
       "<table border=\"1\" class=\"dataframe\">\n",
       "  <thead>\n",
       "    <tr style=\"text-align: right;\">\n",
       "      <th></th>\n",
       "      <th>Pelvic_incidence</th>\n",
       "      <th>Pelvic_tilt</th>\n",
       "      <th>Lumbar_lordosis_angle</th>\n",
       "      <th>Sacral_slope</th>\n",
       "      <th>Pelvic_radius</th>\n",
       "      <th>Degree_spondylolisthesis</th>\n",
       "      <th>Pelvic_slope</th>\n",
       "      <th>Direct_tilt</th>\n",
       "      <th>Thoracic_slope</th>\n",
       "      <th>Cervical_tilt</th>\n",
       "      <th>Sacrum_angle</th>\n",
       "      <th>Scoliosis_slope</th>\n",
       "    </tr>\n",
       "  </thead>\n",
       "  <tbody>\n",
       "    <tr>\n",
       "      <th>39.056951</th>\n",
       "      <td>10.060991</td>\n",
       "      <td>25.015378</td>\n",
       "      <td>28.995960</td>\n",
       "      <td>114.405425</td>\n",
       "      <td>4.564259</td>\n",
       "      <td>0.415186</td>\n",
       "      <td>12.8874</td>\n",
       "      <td>17.5323</td>\n",
       "      <td>16.78486</td>\n",
       "      <td>-25.530607</td>\n",
       "      <td>16.1102</td>\n",
       "      <td>Abnormal</td>\n",
       "    </tr>\n",
       "    <tr>\n",
       "      <th>68.832021</th>\n",
       "      <td>22.218482</td>\n",
       "      <td>50.092194</td>\n",
       "      <td>46.613539</td>\n",
       "      <td>105.985135</td>\n",
       "      <td>-3.530317</td>\n",
       "      <td>0.474889</td>\n",
       "      <td>26.8343</td>\n",
       "      <td>17.4861</td>\n",
       "      <td>16.65897</td>\n",
       "      <td>-29.031888</td>\n",
       "      <td>19.2221</td>\n",
       "      <td>Abnormal</td>\n",
       "    </tr>\n",
       "    <tr>\n",
       "      <th>69.297008</th>\n",
       "      <td>24.652878</td>\n",
       "      <td>44.311238</td>\n",
       "      <td>44.644130</td>\n",
       "      <td>101.868495</td>\n",
       "      <td>11.211523</td>\n",
       "      <td>0.369345</td>\n",
       "      <td>23.5603</td>\n",
       "      <td>12.7074</td>\n",
       "      <td>11.42447</td>\n",
       "      <td>-30.470246</td>\n",
       "      <td>18.8329</td>\n",
       "      <td>Abnormal</td>\n",
       "    </tr>\n",
       "    <tr>\n",
       "      <th>49.712859</th>\n",
       "      <td>9.652075</td>\n",
       "      <td>28.317406</td>\n",
       "      <td>40.060784</td>\n",
       "      <td>108.168725</td>\n",
       "      <td>7.918501</td>\n",
       "      <td>0.543360</td>\n",
       "      <td>35.4940</td>\n",
       "      <td>15.9546</td>\n",
       "      <td>8.87237</td>\n",
       "      <td>-16.378376</td>\n",
       "      <td>24.9171</td>\n",
       "      <td>Abnormal</td>\n",
       "    </tr>\n",
       "    <tr>\n",
       "      <th>40.250200</th>\n",
       "      <td>13.921907</td>\n",
       "      <td>25.124950</td>\n",
       "      <td>26.328293</td>\n",
       "      <td>130.327871</td>\n",
       "      <td>2.230652</td>\n",
       "      <td>0.789993</td>\n",
       "      <td>29.3230</td>\n",
       "      <td>12.0036</td>\n",
       "      <td>10.40462</td>\n",
       "      <td>-1.512209</td>\n",
       "      <td>9.6548</td>\n",
       "      <td>Abnormal</td>\n",
       "    </tr>\n",
       "  </tbody>\n",
       "</table>\n",
       "</div>"
      ],
      "text/plain": [
       "           Pelvic_incidence  Pelvic_tilt  Lumbar_lordosis_angle  Sacral_slope  \\\n",
       "39.056951         10.060991    25.015378              28.995960    114.405425   \n",
       "68.832021         22.218482    50.092194              46.613539    105.985135   \n",
       "69.297008         24.652878    44.311238              44.644130    101.868495   \n",
       "49.712859          9.652075    28.317406              40.060784    108.168725   \n",
       "40.250200         13.921907    25.124950              26.328293    130.327871   \n",
       "\n",
       "           Pelvic_radius  Degree_spondylolisthesis  Pelvic_slope  Direct_tilt  \\\n",
       "39.056951       4.564259                  0.415186       12.8874      17.5323   \n",
       "68.832021      -3.530317                  0.474889       26.8343      17.4861   \n",
       "69.297008      11.211523                  0.369345       23.5603      12.7074   \n",
       "49.712859       7.918501                  0.543360       35.4940      15.9546   \n",
       "40.250200       2.230652                  0.789993       29.3230      12.0036   \n",
       "\n",
       "           Thoracic_slope  Cervical_tilt  Sacrum_angle Scoliosis_slope  \n",
       "39.056951        16.78486     -25.530607       16.1102        Abnormal  \n",
       "68.832021        16.65897     -29.031888       19.2221        Abnormal  \n",
       "69.297008        11.42447     -30.470246       18.8329        Abnormal  \n",
       "49.712859         8.87237     -16.378376       24.9171        Abnormal  \n",
       "40.250200        10.40462      -1.512209        9.6548        Abnormal  "
      ]
     },
     "execution_count": 3,
     "metadata": {},
     "output_type": "execute_result"
    }
   ],
   "source": [
    "data.head()"
   ]
  },
  {
   "cell_type": "code",
   "execution_count": 4,
   "metadata": {},
   "outputs": [
    {
     "data": {
      "text/plain": [
       "Pelvic_incidence            0\n",
       "Pelvic_tilt                 0\n",
       "Lumbar_lordosis_angle       0\n",
       "Sacral_slope                0\n",
       "Pelvic_radius               0\n",
       "Degree_spondylolisthesis    0\n",
       "Pelvic_slope                0\n",
       "Direct_tilt                 0\n",
       "Thoracic_slope              0\n",
       "Cervical_tilt               0\n",
       "Sacrum_angle                0\n",
       "Scoliosis_slope             0\n",
       "dtype: int64"
      ]
     },
     "execution_count": 4,
     "metadata": {},
     "output_type": "execute_result"
    }
   ],
   "source": [
    "data.isnull().sum()"
   ]
  },
  {
   "cell_type": "markdown",
   "metadata": {},
   "source": [
    "Пропуски данных отсутствуют."
   ]
  },
  {
   "cell_type": "code",
   "execution_count": 5,
   "metadata": {},
   "outputs": [],
   "source": [
    "#Кодирование категориальных признаков\n",
    "data['Scoliosis_slope'] = data['Scoliosis_slope'].map({'Abnormal': 1, 'Normal': 0})"
   ]
  },
  {
   "cell_type": "markdown",
   "metadata": {},
   "source": [
    "#### В качестве метрики для решения задачи классификации будем использовать: Precision - доля верно предсказанных классификатором положительных объектов, из всех объектов, которые классификатор верно или неверно определил как положительные."
   ]
  },
  {
   "cell_type": "markdown",
   "metadata": {},
   "source": [
    "Разработаем класс, который позволит сохранять метрики качества построенных моделей и реализует визуализацию метрик качества."
   ]
  },
  {
   "cell_type": "code",
   "execution_count": 6,
   "metadata": {},
   "outputs": [],
   "source": [
    "class MetricLogger:\n",
    "    \n",
    "    def __init__(self):\n",
    "        self.df = pd.DataFrame(\n",
    "            {'metric': pd.Series([], dtype='str'),\n",
    "            'alg': pd.Series([], dtype='str'),\n",
    "            'value': pd.Series([], dtype='float')})\n",
    "\n",
    "    def add(self, metric, alg, value):\n",
    "        \"\"\"\n",
    "        Добавление значения\n",
    "        \"\"\"\n",
    "        # Удаление значения если оно уже было ранее добавлено\n",
    "        self.df.drop(self.df[(self.df['metric']==metric)&(self.df['alg']==alg)].index, inplace = True)\n",
    "        # Добавление нового значения\n",
    "        temp = [{'metric':metric, 'alg':alg, 'value':value}]\n",
    "        self.df = self.df.append(temp, ignore_index=True)\n",
    "\n",
    "    def get_data_for_metric(self, metric, ascending=True):\n",
    "        \"\"\"\n",
    "        Формирование данных с фильтром по метрике\n",
    "        \"\"\"\n",
    "        temp_data = self.df[self.df['metric']==metric]\n",
    "        temp_data_2 = temp_data.sort_values(by='value', ascending=ascending)\n",
    "        return temp_data_2['alg'].values, temp_data_2['value'].values\n",
    "    \n",
    "    def plot(self, str_header, metric, ascending=True, figsize=(5, 5)):\n",
    "        \"\"\"\n",
    "        Вывод графика\n",
    "        \"\"\"\n",
    "        array_labels, array_metric = self.get_data_for_metric(metric, ascending)\n",
    "        fig, ax1 = plt.subplots(figsize=figsize)\n",
    "        pos = np.arange(len(array_metric))\n",
    "        rects = ax1.barh(pos, array_metric,\n",
    "                         align='center',\n",
    "                         height=0.5, \n",
    "                         tick_label=array_labels)\n",
    "        ax1.set_title(str_header)\n",
    "        for a,b in zip(pos, array_metric):\n",
    "            plt.text(0.5, a-0.05, str(round(b,3)), color='white')\n",
    "        plt.show()   "
   ]
  },
  {
   "cell_type": "markdown",
   "metadata": {},
   "source": [
    "Для задачи классификации будем использовать случайный лес и градиентный бустинг."
   ]
  },
  {
   "cell_type": "markdown",
   "metadata": {},
   "source": [
    "### Формирование обучающей и тестовой выборок"
   ]
  },
  {
   "cell_type": "code",
   "execution_count": 7,
   "metadata": {},
   "outputs": [
    {
     "data": {
      "text/plain": [
       "Index(['Pelvic_incidence', 'Pelvic_tilt', 'Lumbar_lordosis_angle',\n",
       "       'Sacral_slope', 'Pelvic_radius', 'Degree_spondylolisthesis',\n",
       "       'Pelvic_slope', 'Direct_tilt', 'Thoracic_slope', 'Cervical_tilt',\n",
       "       'Sacrum_angle', 'Scoliosis_slope'],\n",
       "      dtype='object')"
      ]
     },
     "execution_count": 7,
     "metadata": {},
     "output_type": "execute_result"
    }
   ],
   "source": [
    "data.columns"
   ]
  },
  {
   "cell_type": "code",
   "execution_count": 8,
   "metadata": {},
   "outputs": [
    {
     "data": {
      "text/plain": [
       "Pelvic_incidence            float64\n",
       "Pelvic_tilt                 float64\n",
       "Lumbar_lordosis_angle       float64\n",
       "Sacral_slope                float64\n",
       "Pelvic_radius               float64\n",
       "Degree_spondylolisthesis    float64\n",
       "Pelvic_slope                float64\n",
       "Direct_tilt                 float64\n",
       "Thoracic_slope              float64\n",
       "Cervical_tilt               float64\n",
       "Sacrum_angle                float64\n",
       "Scoliosis_slope               int64\n",
       "dtype: object"
      ]
     },
     "execution_count": 8,
     "metadata": {},
     "output_type": "execute_result"
    }
   ],
   "source": [
    "data.dtypes"
   ]
  },
  {
   "cell_type": "code",
   "execution_count": 9,
   "metadata": {},
   "outputs": [],
   "source": [
    "# Признаки для задачи классификации\n",
    "class_cols = ['Pelvic_incidence',\n",
    "               'Pelvic_tilt',\n",
    "               'Lumbar_lordosis_angle',\n",
    "               'Degree_spondylolisthesis',\n",
    "               ]"
   ]
  },
  {
   "cell_type": "code",
   "execution_count": 10,
   "metadata": {},
   "outputs": [
    {
     "data": {
      "text/plain": [
       "(309, 4)"
      ]
     },
     "execution_count": 10,
     "metadata": {},
     "output_type": "execute_result"
    }
   ],
   "source": [
    "X = data[class_cols]\n",
    "Y = data['Scoliosis_slope']\n",
    "X.shape"
   ]
  },
  {
   "cell_type": "code",
   "execution_count": 11,
   "metadata": {},
   "outputs": [],
   "source": [
    "# С использованием метода train_test_split разделим выборку на обучающую и тестовую\n",
    "X_train, X_test, Y_train, Y_test = train_test_split(X, Y, test_size=0.25, random_state=1)"
   ]
  },
  {
   "cell_type": "code",
   "execution_count": 12,
   "metadata": {},
   "outputs": [
    {
     "data": {
      "text/plain": [
       "((231, 4), (78, 4), (231,), (78,))"
      ]
     },
     "execution_count": 12,
     "metadata": {},
     "output_type": "execute_result"
    }
   ],
   "source": [
    "X_train.shape, X_test.shape, Y_train.shape, Y_test.shape"
   ]
  },
  {
   "cell_type": "markdown",
   "metadata": {},
   "source": [
    "### Обучение моделей"
   ]
  },
  {
   "cell_type": "code",
   "execution_count": 13,
   "metadata": {},
   "outputs": [],
   "source": [
    "# Сохранение метрик\n",
    "clasMetricLogger = MetricLogger()"
   ]
  },
  {
   "cell_type": "code",
   "execution_count": 14,
   "metadata": {},
   "outputs": [],
   "source": [
    "def train_model(model_name, model, MetricLogger):\n",
    "    model.fit(X_train, Y_train)\n",
    "    Y_pred = model.predict(X_test)\n",
    "    \n",
    "    precision = precision_score(Y_test.values, Y_pred)\n",
    "    \n",
    "    MetricLogger.add('precision', model_name, precision)\n",
    "\n",
    "    print('*****************************************************')\n",
    "    print(model_name)\n",
    "    print(model)\n",
    "    print(\"precision_score:\", precision)"
   ]
  },
  {
   "cell_type": "code",
   "execution_count": 15,
   "metadata": {},
   "outputs": [
    {
     "name": "stdout",
     "output_type": "stream",
     "text": [
      "*****************************************************\n",
      "Случайный лес\n",
      "RandomForestClassifier()\n",
      "precision_score: 0.7647058823529411\n",
      "*****************************************************\n",
      "Градиентный бустинг\n",
      "GradientBoostingClassifier()\n",
      "precision_score: 0.7346938775510204\n"
     ]
    }
   ],
   "source": [
    "train_model('Случайный лес', RandomForestClassifier(), clasMetricLogger)\n",
    "train_model('Градиентный бустинг', GradientBoostingClassifier(), clasMetricLogger)"
   ]
  },
  {
   "cell_type": "markdown",
   "metadata": {},
   "source": [
    "### Оценка качества моделей"
   ]
  },
  {
   "cell_type": "code",
   "execution_count": 16,
   "metadata": {},
   "outputs": [
    {
     "data": {
      "text/plain": [
       "array(['precision'], dtype=object)"
      ]
     },
     "execution_count": 16,
     "metadata": {},
     "output_type": "execute_result"
    }
   ],
   "source": [
    "# Метрики качества модели\n",
    "clas_metrics = clasMetricLogger.df['metric'].unique()\n",
    "clas_metrics"
   ]
  },
  {
   "cell_type": "code",
   "execution_count": 17,
   "metadata": {},
   "outputs": [
    {
     "data": {
      "image/png": "[encoded data removed]",
      "text/plain": [
       "<Figure size 360x216 with 1 Axes>"
      ]
     },
     "metadata": {},
     "output_type": "display_data"
    }
   ],
   "source": [
    "# Построим графики метрик качества модели\n",
    "for metric in clas_metrics:\n",
    "    clasMetricLogger.plot('Метрика: ' + metric, metric, figsize=(5, 3))"
   ]
  },
  {
   "cell_type": "markdown",
   "metadata": {},
   "source": [
    "На основании метрики precision лучшим оказался случайный лес."
   ]
  }
 ],
 "metadata": {
  "kernelspec": {
   "display_name": "Python 3",
   "language": "python",
   "name": "python3"
  },
  "language_info": {
   "codemirror_mode": {
    "name": "ipython",
    "version": 3
   },
   "file_extension": ".py",
   "mimetype": "text/x-python",
   "name": "python",
   "nbconvert_exporter": "python",
   "pygments_lexer": "ipython3",
   "version": "3.8.8"
  }
 },
 "nbformat": 4,
 "nbformat_minor": 4
}
